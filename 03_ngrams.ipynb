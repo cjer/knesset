{
 "cells": [
  {
   "cell_type": "code",
   "execution_count": 3,
   "metadata": {},
   "outputs": [],
   "source": [
    "%load_ext autoreload\n",
    "%autoreload 2"
   ]
  },
  {
   "cell_type": "code",
   "execution_count": 4,
   "metadata": {},
   "outputs": [],
   "source": [
    "%matplotlib inline"
   ]
  },
  {
   "cell_type": "code",
   "execution_count": 5,
   "metadata": {},
   "outputs": [],
   "source": [
    "import pandas as pd\n",
    "import numpy as np"
   ]
  },
  {
   "cell_type": "code",
   "execution_count": 6,
   "metadata": {},
   "outputs": [],
   "source": [
    "import matplotlib.pyplot as plt\n",
    "import seaborn as sns\n",
    "sns.set_context('paper')\n",
    "sns.set_style('white')"
   ]
  },
  {
   "cell_type": "code",
   "execution_count": 7,
   "metadata": {},
   "outputs": [
    {
     "data": {
      "text/html": [
       "<div>\n",
       "<style scoped>\n",
       "    .dataframe tbody tr th:only-of-type {\n",
       "        vertical-align: middle;\n",
       "    }\n",
       "\n",
       "    .dataframe tbody tr th {\n",
       "        vertical-align: top;\n",
       "    }\n",
       "\n",
       "    .dataframe thead th {\n",
       "        text-align: right;\n",
       "    }\n",
       "</style>\n",
       "<table border=\"1\" class=\"dataframe\">\n",
       "  <thead>\n",
       "    <tr style=\"text-align: right;\">\n",
       "      <th></th>\n",
       "      <th>word</th>\n",
       "      <th>freq</th>\n",
       "    </tr>\n",
       "  </thead>\n",
       "  <tbody>\n",
       "    <tr>\n",
       "      <td>0</td>\n",
       "      <td>,</td>\n",
       "      <td>6981782</td>\n",
       "    </tr>\n",
       "    <tr>\n",
       "      <td>1</td>\n",
       "      <td>.</td>\n",
       "      <td>6286064</td>\n",
       "    </tr>\n",
       "    <tr>\n",
       "      <td>2</td>\n",
       "      <td>של</td>\n",
       "      <td>2763390</td>\n",
       "    </tr>\n",
       "    <tr>\n",
       "      <td>3</td>\n",
       "      <td>\"</td>\n",
       "      <td>2353828</td>\n",
       "    </tr>\n",
       "    <tr>\n",
       "      <td>4</td>\n",
       "      <td>-</td>\n",
       "      <td>2011038</td>\n",
       "    </tr>\n",
       "  </tbody>\n",
       "</table>\n",
       "</div>"
      ],
      "text/plain": [
       "  word     freq\n",
       "0    ,  6981782\n",
       "1    .  6286064\n",
       "2   של  2763390\n",
       "3    \"  2353828\n",
       "4    -  2011038"
      ]
     },
     "execution_count": 7,
     "metadata": {},
     "output_type": "execute_result"
    }
   ],
   "source": [
    "most_common_wiki = pd.read_csv('../wiki_dump/most_comon_1k.csv')\n",
    "most_common_wiki.head()"
   ]
  },
  {
   "cell_type": "code",
   "execution_count": 8,
   "metadata": {},
   "outputs": [],
   "source": [
    "import os"
   ]
  },
  {
   "cell_type": "code",
   "execution_count": 21,
   "metadata": {},
   "outputs": [
    {
     "data": {
      "text/plain": [
       "[['תוצרת',\n",
       "  'חקלאית',\n",
       "  'מתאפיינת',\n",
       "  'ב',\n",
       "  'חיי',\n",
       "  'מדף',\n",
       "  'קצרים',\n",
       "  'ו',\n",
       "  'מושפעת',\n",
       "  'מ',\n",
       "  'תנאי',\n",
       "  'אקלים',\n",
       "  'משתנים',\n",
       "  'ו',\n",
       "  'דרישות',\n",
       "  'שוק',\n",
       "  'תקופתיות',\n",
       "  '.'],\n",
       " ['אופיו',\n",
       "  'של',\n",
       "  'ה',\n",
       "  'מוצר',\n",
       "  'מאפשר',\n",
       "  'ל',\n",
       "  'ה',\n",
       "  'משווקים',\n",
       "  'ה',\n",
       "  'שונים',\n",
       "  'לבצע',\n",
       "  'ויסות',\n",
       "  'של',\n",
       "  'ה',\n",
       "  'היצע',\n",
       "  'ו',\n",
       "  'ה',\n",
       "  'ביקוש',\n",
       "  'תוך',\n",
       "  'השפעה',\n",
       "  'ישירה',\n",
       "  'על',\n",
       "  'מחירי',\n",
       "  'ה',\n",
       "  'קניה',\n",
       "  'מ',\n",
       "  'יצרן',\n",
       "  'ו',\n",
       "  'על',\n",
       "  'ה',\n",
       "  'מחירים',\n",
       "  'ל',\n",
       "  'ה',\n",
       "  'צרכן',\n",
       "  '.'],\n",
       " ['התנהלות',\n",
       "  'זו',\n",
       "  'מורידה',\n",
       "  'את',\n",
       "  'ה',\n",
       "  'מחיר',\n",
       "  'ש',\n",
       "  'מקבל',\n",
       "  'ה',\n",
       "  'יצרן',\n",
       "  'ו',\n",
       "  'מעלה',\n",
       "  'את',\n",
       "  'ה',\n",
       "  'מחיר',\n",
       "  'ל',\n",
       "  'ה',\n",
       "  'צרכן',\n",
       "  'ה',\n",
       "  'סופי',\n",
       "  '.']]"
      ]
     },
     "execution_count": 21,
     "metadata": {},
     "output_type": "execute_result"
    }
   ],
   "source": [
    "yap_form_dir = 'divrey/yap_form'\n",
    "sents = []\n",
    "for kn in os.scandir(yap_form_dir):\n",
    "    if os.path.isdir(kn):\n",
    "        for file in os.scandir(os.path.join(kn, 'law')):\n",
    "            #print (file.name)\n",
    "            with open(file.path, 'r', encoding='utf8') as f:\n",
    "                for s in f.readlines():\n",
    "                    s = s.strip().split()\n",
    "                    if s:\n",
    "                        sents.append(s)\n",
    "                        \n",
    "sents[:3]"
   ]
  },
  {
   "cell_type": "code",
   "execution_count": 22,
   "metadata": {},
   "outputs": [
    {
     "data": {
      "text/plain": [
       "70310"
      ]
     },
     "execution_count": 22,
     "metadata": {},
     "output_type": "execute_result"
    }
   ],
   "source": [
    "len(sents)"
   ]
  },
  {
   "cell_type": "code",
   "execution_count": 23,
   "metadata": {},
   "outputs": [
    {
     "data": {
      "text/plain": [
       "['תוצרת',\n",
       " 'חקלאית',\n",
       " 'מתאפיינת',\n",
       " 'ב',\n",
       " 'חיי',\n",
       " 'מדף',\n",
       " 'קצרים',\n",
       " 'ו',\n",
       " 'מושפעת',\n",
       " 'מ',\n",
       " 'תנאי',\n",
       " 'אקלים',\n",
       " 'משתנים',\n",
       " 'ו',\n",
       " 'דרישות',\n",
       " 'שוק',\n",
       " 'תקופתיות',\n",
       " '.']"
      ]
     },
     "execution_count": 23,
     "metadata": {},
     "output_type": "execute_result"
    }
   ],
   "source": [
    "sents[0]"
   ]
  },
  {
   "cell_type": "code",
   "execution_count": 24,
   "metadata": {},
   "outputs": [],
   "source": [
    "stop_words = set(most_common_wiki.head(34).word.tolist())"
   ]
  },
  {
   "cell_type": "code",
   "execution_count": 26,
   "metadata": {},
   "outputs": [],
   "source": [
    "from collections import Counter"
   ]
  },
  {
   "cell_type": "code",
   "execution_count": 27,
   "metadata": {},
   "outputs": [
    {
     "data": {
      "text/plain": [
       "[(('קבוצת', 'חברי', 'הכנסת'), 4470),\n",
       " (('עשרה', 'חבר', 'הכנסת'), 3007),\n",
       " (('הכנסת', 'תשע', 'עשרה'), 2661),\n",
       " (('שולחן', 'הכנסת', 'תשע'), 2639),\n",
       " (('הונחו', 'שולחן', 'הכנסת'), 2297),\n",
       " (('הונחה', 'שולחן', 'הכנסת'), 1861),\n",
       " (('שולחן', 'הכנסת', 'עשרים'), 1785),\n",
       " (('תשע', 'עשרה', 'חבר'), 1667),\n",
       " (('הכנסת', 'שמונה', 'עשרה'), 1663),\n",
       " (('שולחן', 'הכנסת', 'שמונה'), 1655),\n",
       " (('חוק', 'זהות', 'הונחו'), 1298),\n",
       " (('זהות', 'הונחו', 'שולחן'), 1297),\n",
       " (('הצעות', 'חוק', 'זהות'), 1266),\n",
       " (('עשרה', 'חברת', 'הכנסת'), 1215),\n",
       " (('הצעת', 'חוק', 'זהה'), 1189),\n",
       " (('זהה', 'הונחה', 'שולחן'), 1183),\n",
       " (('חוק', 'זהה', 'הונחה'), 1182),\n",
       " (('הכנסת', 'דב', 'חנין'), 1034),\n",
       " (('חבר', 'הכנסת', 'דב'), 1001),\n",
       " (('הוסרה', 'מסדר', 'היום'), 947)]"
      ]
     },
     "execution_count": 27,
     "metadata": {},
     "output_type": "execute_result"
    }
   ],
   "source": [
    "from nltk import ngrams\n",
    "uni = []\n",
    "bi = []\n",
    "tri = []\n",
    "qua = []\n",
    "qui = []\n",
    "for s in sents:\n",
    "    sent = [w for w in s if len(w)>1 and not w in stop_words]\n",
    "    uni.extend(ngrams(sent, 1))\n",
    "    bi.extend(ngrams(sent, 2))\n",
    "    tri.extend(ngrams(sent, 3))\n",
    "    qua.extend(ngrams(sent, 4))\n",
    "    qui.extend(ngrams(sent, 5))\n",
    "\n",
    "uni = Counter(uni)\n",
    "bi = Counter(bi)\n",
    "tri = Counter(tri)\n",
    "qua = Counter(qua)\n",
    "qui = Counter(qui)\n",
    "\n",
    "tri.most_common(20)"
   ]
  },
  {
   "cell_type": "code",
   "execution_count": 28,
   "metadata": {},
   "outputs": [],
   "source": [
    "uni_df = pd.DataFrame([(' '.join(ng), freq) for ng, freq in uni.most_common()], columns=['phrase', 'freq'])\n",
    "bi_df  = pd.DataFrame( [(' '.join(ng), freq) for ng, freq in bi.most_common()], columns=['phrase', 'freq'])\n",
    "tri_df = pd.DataFrame([(' '.join(ng), freq) for ng, freq in tri.most_common()], columns=['phrase', 'freq'])\n",
    "qua_df = pd.DataFrame([(' '.join(ng), freq) for ng, freq in qua.most_common()], columns=['phrase', 'freq'])\n",
    "qui_df = pd.DataFrame([(' '.join(ng), freq) for ng, freq in qui.most_common()], columns=['phrase', 'freq'])\n"
   ]
  },
  {
   "cell_type": "code",
   "execution_count": 33,
   "metadata": {},
   "outputs": [
    {
     "data": {
      "text/plain": [
       "(823192, 2)"
      ]
     },
     "execution_count": 33,
     "metadata": {},
     "output_type": "execute_result"
    }
   ],
   "source": [
    "tri_df.shape"
   ]
  },
  {
   "cell_type": "code",
   "execution_count": 30,
   "metadata": {},
   "outputs": [],
   "source": [
    "uni_df.to_csv('ngrams/knesset_20_divrey_yap_form_uni_df.csv.gz', index=False, compression='gzip')   \n",
    "bi_df .to_csv('ngrams/knesset_20_divrey_yap_form_bi_df.csv.gz' , index=False, compression='gzip')    \n",
    "tri_df.to_csv('ngrams/knesset_20_divrey_yap_form_tri_df.csv.gz', index=False, compression='gzip')   \n",
    "qua_df.to_csv('ngrams/knesset_20_divrey_yap_form_qua_df.csv.gz', index=False, compression='gzip')   \n",
    "qui_df.to_csv('ngrams/knesset_20_divrey_yap_form_qui_df.csv.gz', index=False, compression='gzip')   "
   ]
  },
  {
   "cell_type": "code",
   "execution_count": 40,
   "metadata": {},
   "outputs": [],
   "source": [
    "uni_df[uni_df.freq>=4].to_excel('ngrams/knesset_20_divrey_yap_form_uni_df_4plus.xlsx', index=False)   \n",
    "bi_df [bi_df.freq>=4].to_excel('ngrams/knesset_20_divrey_yap_form_bi_df_4plus.xlsx' , index=False)    \n",
    "tri_df[tri_df.freq>=4].to_excel('ngrams/knesset_20_divrey_yap_form_tri_df_4plus.xlsx', index=False)   \n",
    "qua_df[qua_df.freq>=4].to_excel('ngrams/knesset_20_divrey_yap_form_qua_df_4plus.xlsx', index=False)   \n",
    "qui_df[qui_df.freq>=4].to_excel('ngrams/knesset_20_divrey_yap_form_qui_df_4plus.xlsx', index=False)   "
   ]
  },
  {
   "cell_type": "code",
   "execution_count": null,
   "metadata": {},
   "outputs": [],
   "source": []
  },
  {
   "cell_type": "code",
   "execution_count": 38,
   "metadata": {},
   "outputs": [
    {
     "data": {
      "text/plain": [
       "((39399, 2), (80015, 2), (221586, 2), (823192, 2))"
      ]
     },
     "execution_count": 38,
     "metadata": {},
     "output_type": "execute_result"
    }
   ],
   "source": [
    "tri_df[tri_df.freq>3].shape, tri_df[tri_df.freq>2].shape, tri_df[tri_df.freq>1].shape, tri_df.shape"
   ]
  },
  {
   "cell_type": "code",
   "execution_count": 44,
   "metadata": {},
   "outputs": [
    {
     "data": {
      "text/plain": [
       "(39399, 2)"
      ]
     },
     "execution_count": 44,
     "metadata": {},
     "output_type": "execute_result"
    }
   ],
   "source": [
    "tri_df[tri_df.freq>3].shape"
   ]
  },
  {
   "cell_type": "code",
   "execution_count": 47,
   "metadata": {},
   "outputs": [
    {
     "data": {
      "text/plain": [
       "[(('קבוצת', 'חברי', 'הכנסת'), 4470),\n",
       " (('עשרה', 'חבר', 'הכנסת'), 3007),\n",
       " (('הכנסת', 'תשע', 'עשרה'), 2661),\n",
       " (('שולחן', 'הכנסת', 'תשע'), 2639),\n",
       " (('הונחו', 'שולחן', 'הכנסת'), 2297),\n",
       " (('הונחה', 'שולחן', 'הכנסת'), 1861),\n",
       " (('שולחן', 'הכנסת', 'עשרים'), 1785),\n",
       " (('תשע', 'עשרה', 'חבר'), 1667),\n",
       " (('הכנסת', 'שמונה', 'עשרה'), 1663),\n",
       " (('שולחן', 'הכנסת', 'שמונה'), 1655),\n",
       " (('חוק', 'זהות', 'הונחו'), 1298),\n",
       " (('זהות', 'הונחו', 'שולחן'), 1297),\n",
       " (('הצעות', 'חוק', 'זהות'), 1266),\n",
       " (('עשרה', 'חברת', 'הכנסת'), 1215),\n",
       " (('הצעת', 'חוק', 'זהה'), 1189),\n",
       " (('זהה', 'הונחה', 'שולחן'), 1183),\n",
       " (('חוק', 'זהה', 'הונחה'), 1182),\n",
       " (('הכנסת', 'דב', 'חנין'), 1034),\n",
       " (('חבר', 'הכנסת', 'דב'), 1001),\n",
       " (('הוסרה', 'מסדר', 'היום'), 947)]"
      ]
     },
     "execution_count": 47,
     "metadata": {},
     "output_type": "execute_result"
    }
   ],
   "source": [
    "tri.most_common(20)"
   ]
  },
  {
   "cell_type": "code",
   "execution_count": 32,
   "metadata": {},
   "outputs": [
    {
     "data": {
      "text/plain": [
       "[(('הצעת', 'חוק', 'לאפשר'), 87),\n",
       " (('בנוסף', 'מוצע', 'לקבוע'), 87),\n",
       " (('הכנסת', 'עליזה', 'לביא'), 87),\n",
       " (('חוק', 'נועדה', 'לתקן'), 87),\n",
       " (('חבר', 'הכנסת', 'יעקב'), 87),\n",
       " (('הכנסת', 'אברהם', 'מיכאלי'), 86),\n",
       " (('עבודה', 'רווחה', 'שירותים'), 86),\n",
       " (('הצעת', 'חוק', 'אינה'), 85),\n",
       " ((\"יחימוביץ'\", 'קבוצת', 'חברי'), 85),\n",
       " (('שבע', 'עשרה', 'שולחן'), 85),\n",
       " (('הכנסת', 'חמש', 'עשרה'), 85),\n",
       " (('מיכאלי', 'קבוצת', 'חברי'), 84),\n",
       " (('שלי', \"יחימוביץ'\", 'קבוצת'), 84),\n",
       " (('אזור', 'כלכלי', 'בלעדי'), 84),\n",
       " (('שוויון', 'הזדמנויות', 'עבודה'), 83),\n",
       " (('מחקר', 'מידע', 'כנסת'), 82),\n",
       " (('שולחן', 'הכנסת', 'חמש'), 82),\n",
       " (('מועצה', 'השכלה', 'גבוהה'), 82),\n",
       " (('סעיף', 'מוצע', 'לקבוע'), 81),\n",
       " (('חברת', 'הכנסת', 'עליזה'), 81),\n",
       " (('חבר', 'הכנסת', 'יקי'), 81),\n",
       " (('חבר', 'הכנסת', 'יצחק'), 80),\n",
       " (('הכנסת', 'חיים', 'אורון'), 80),\n",
       " (('חוק', 'לימוד', 'חובה'), 80),\n",
       " (('כן', 'הצעת', 'חוק'), 80),\n",
       " (('חוק', 'רשויות', 'מקומיות'), 80),\n",
       " (('אחמד', 'טיבי', 'קבוצת'), 80),\n",
       " (('טיבי', 'קבוצת', 'חברי'), 80),\n",
       " (('תקופת', 'לידה', 'הורות'), 80),\n",
       " (('חוק', 'נוסחה', 'סיוע'), 79),\n",
       " (('מדינות', 'רבות', 'עולם'), 79),\n",
       " (('גפני', 'קבוצת', 'חברי'), 79),\n",
       " (('הכנסת', 'סופה', 'נדבר'), 79),\n",
       " (('הכנסת', 'יקי', 'לוי'), 79),\n",
       " (('עסקים', 'קטנים', 'בינוניים'), 79),\n",
       " (('הצעת', 'חוק', 'להבטיח'), 78),\n",
       " (('מוצע', 'לקבוע', 'שר'), 78),\n",
       " (('הכנסת', 'אמנון', 'כהן'), 78),\n",
       " (('חוק', 'שוויון', 'הזדמנויות'), 78),\n",
       " (('הגשת', 'כתב', 'אישום'), 78),\n",
       " (('כן', 'מוצע', 'לתקן'), 77),\n",
       " (('מוצע', 'לקבוע', 'הוראות'), 76),\n",
       " (('היום', 'יום', 'כ\"ו'), 76),\n",
       " (('בריאות', 'ממלכתי', 'התשנ\"ד'), 75),\n",
       " (('זכויות', 'אנשים', 'מוגבלות'), 75),\n",
       " (('תשלום', 'דמי', 'ביטוח'), 75),\n",
       " (('חבר', 'הכנסת', \"ג'מאל\"), 75),\n",
       " (('חברת', 'הכנסת', 'סופה'), 75),\n",
       " (('שנים', 'אחרונות', 'אנו'), 74),\n",
       " (('לפי', 'חוק', 'ביטוח'), 74),\n",
       " (('הצעת', 'חוק', 'למנוע'), 74),\n",
       " (('משרד', 'הגנת', 'סביבה'), 74),\n",
       " (('כך', 'מוצע', 'לקבוע'), 73),\n",
       " (('עבודה', 'רווחה', 'בריאות'), 73),\n",
       " (('חבר', 'הכנסת', 'אברהם'), 73),\n",
       " (('טרת', 'הצעת', 'חוק'), 73),\n",
       " (('שר', 'תחבורה', 'בטיחות'), 72),\n",
       " (('אחרונות', 'אנו', 'עדים'), 72),\n",
       " (('מיכל', 'רוזין', 'קבוצת'), 72),\n",
       " (('חוק', 'דמי', 'מחלה'), 72),\n",
       " (('לוי', 'אבקסיס', 'קבוצת'), 71),\n",
       " (('אבקסיס', 'קבוצת', 'חברי'), 71),\n",
       " (('עליזה', 'לביא', 'קבוצת'), 71),\n",
       " (('ועדת', 'כספים', 'כנסת'), 71),\n",
       " (('עידוד', 'השקעות', 'הון'), 70),\n",
       " (('סל', 'שירותי', 'בריאות'), 70),\n",
       " (('חוק', 'זכויות', 'חולה'), 70),\n",
       " (('חבר', 'הכנסת', 'עפר'), 70),\n",
       " (('לפי', 'הצעת', 'חוק'), 70),\n",
       " (('חברת', 'הכנסת', 'גילה'), 70),\n",
       " (('פי', 'הצעת', 'חוק'), 70),\n",
       " (('מועצת', 'רבנות', 'ראשית'), 70),\n",
       " (('חוק', 'יסוד', 'ממשלה'), 70),\n",
       " (('רוזין', 'קבוצת', 'חברי'), 69),\n",
       " (('לביא', 'קבוצת', 'חברי'), 69),\n",
       " (('חוק', 'הוצאה', 'פועל'), 69),\n",
       " (('סעיף', 'חוק', 'יסוד'), 69),\n",
       " (('הכנסת', 'נחמן', 'שי'), 69),\n",
       " (('שירותי', 'מים', 'ביוב'), 69),\n",
       " (('יום', 'מנוחה', 'שבועי'), 68),\n",
       " (('מטרת', 'תיקון', 'מוצע'), 68),\n",
       " (('חבר', 'הכנסת', 'אריה'), 68),\n",
       " (('חלק', 'בלתי', 'נפרד'), 68),\n",
       " (('ועדת', 'כלכלה', 'כנסת'), 68),\n",
       " (('בפני', 'בית', 'משפט'), 68),\n",
       " (('זוג', 'אותו', 'מין'), 67),\n",
       " (('שוויון', 'זכויות', 'אנשים'), 67),\n",
       " (('חברת', 'הכנסת', 'יעל'), 67),\n",
       " (('סדר', 'דין', 'פלילי'), 66),\n",
       " (('הגנת', 'צרכן', 'התשמ\"א'), 66),\n",
       " (('צרכן', 'התשמ\"א', '1981'), 66),\n",
       " (('ישראל', 'מדינה', 'יהודית'), 66),\n",
       " (('מדינה', 'יהודית', 'דמוקרטית'), 66),\n",
       " (('חבר', 'הכנסת', 'נחמן'), 66),\n",
       " (('1977', 'להלן', 'חוק'), 66),\n",
       " (('חוק', 'עידוד', 'השקעות'), 65),\n",
       " (('קידום', 'מעמד', 'אישה'), 65),\n",
       " (('אלעזר', 'שטרן', 'קבוצת'), 65),\n",
       " (('חברי', 'הכנסת', 'אחמד'), 65),\n",
       " (('מגן', 'דוד', 'אדום'), 64)]"
      ]
     },
     "execution_count": 32,
     "metadata": {},
     "output_type": "execute_result"
    }
   ],
   "source": [
    "tri.most_common(300)[200:]"
   ]
  },
  {
   "cell_type": "code",
   "execution_count": null,
   "metadata": {},
   "outputs": [],
   "source": []
  }
 ],
 "metadata": {
  "kernelspec": {
   "display_name": "Python 3",
   "language": "python",
   "name": "python3"
  },
  "language_info": {
   "codemirror_mode": {
    "name": "ipython",
    "version": 3
   },
   "file_extension": ".py",
   "mimetype": "text/x-python",
   "name": "python",
   "nbconvert_exporter": "python",
   "pygments_lexer": "ipython3",
   "version": "3.7.4"
  }
 },
 "nbformat": 4,
 "nbformat_minor": 4
}
